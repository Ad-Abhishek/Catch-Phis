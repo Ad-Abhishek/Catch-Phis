{
 "cells": [
  {
   "cell_type": "code",
   "execution_count": 183,
   "id": "00ec37b8-9a13-455b-8e70-3bf5d04f8b3f",
   "metadata": {},
   "outputs": [],
   "source": [
    "data = {\n",
    "    \"anchor_url\" : 0.2,\n",
    "    \"favicon\" : \"https://ssl.gstatic.com/colaboratory-static/common/a01fcfa49b15ed5edf590b766bd247d1/img/favicon.ico\",\n",
    "    \"iframe\" : -1,\n",
    "    \"mail_to\" : 1,\n",
    "    \"on_mouse_over\" : 1,\n",
    "    \"redirects\" : 1,\n",
    "    \"request_url\" : 0,\n",
    "    \"server_form_handler\" : 1,\n",
    "    \"url\" : \"https://colab.research.google.com/drive/1DrlPkDg2iEt_rwOLADCNhCe854UjVZ6u#scrollTo=dga-OQmr45VG\",\n",
    "    \"origin_url\": \"https://grabify.link/NV8X47\"\n",
    "}"
   ]
  },
  {
   "cell_type": "code",
   "execution_count": 184,
   "id": "a6d25472-2b86-4403-b5de-80c977014075",
   "metadata": {},
   "outputs": [],
   "source": [
    "import urllib\n",
    "import requests\n",
    "import whois\n",
    "from datetime import datetime, timedelta"
   ]
  },
  {
   "cell_type": "code",
   "execution_count": 229,
   "id": "567cc24b-676a-4c2e-b378-0ef372a8e4ce",
   "metadata": {},
   "outputs": [],
   "source": [
    "url_parser = urllib.parse.urlparse(data[\"url\"])\n",
    "domain = url_parser.netloc\n",
    "url_path = url_parser.scheme+\"://\"+domain+url_parser.path"
   ]
  },
  {
   "cell_type": "code",
   "execution_count": 231,
   "id": "6c824ccd-2126-4248-bf7e-2da6da6a1031",
   "metadata": {},
   "outputs": [
    {
     "data": {
      "text/plain": [
       "ParseResult(scheme='https', netloc='colab.research.google.com', path='/drive/1DrlPkDg2iEt_rwOLADCNhCe854UjVZ6u', params='', query='', fragment='scrollTo=dga-OQmr45VG')"
      ]
     },
     "execution_count": 231,
     "metadata": {},
     "output_type": "execute_result"
    }
   ],
   "source": [
    "url_parser"
   ]
  },
  {
   "cell_type": "code",
   "execution_count": 186,
   "id": "7aedaa89-7f16-4665-afbd-d3eae1c22eac",
   "metadata": {},
   "outputs": [
    {
     "data": {
      "text/plain": [
       "ParseResult(scheme='https', netloc='colab.research.google.com', path='/drive/1DrlPkDg2iEt_rwOLADCNhCe854UjVZ6u', params='', query='', fragment='scrollTo=dga-OQmr45VG')"
      ]
     },
     "execution_count": 186,
     "metadata": {},
     "output_type": "execute_result"
    }
   ],
   "source": [
    "urllib.parse.urlparse(data[\"url\"])"
   ]
  },
  {
   "cell_type": "code",
   "execution_count": 187,
   "id": "fbdbe224-d694-432a-b6b0-70762a6bdda2",
   "metadata": {},
   "outputs": [],
   "source": [
    "def contains_IP(url):\n",
    "    parts = url.split('.')\n",
    "    if len(parts) == 4 and all(part.isdigit() for part in parts):\n",
    "        return -1\n",
    "    else:\n",
    "        return 1"
   ]
  },
  {
   "cell_type": "code",
   "execution_count": 188,
   "id": "203ea338-bf5a-4b5c-9365-01f9faf8b4b3",
   "metadata": {},
   "outputs": [],
   "source": [
    "def url_length(url):\n",
    "    if(len(url) > 75):\n",
    "        return -1\n",
    "    elif(len(url) > 53):\n",
    "        return 0\n",
    "    else:\n",
    "        return 1"
   ]
  },
  {
   "cell_type": "code",
   "execution_count": 189,
   "id": "e3e303c6-1356-4c9f-b9f0-df8c820160fd",
   "metadata": {},
   "outputs": [],
   "source": [
    "def is_shortened(origin_url, url):\n",
    "    if url != origin_url:\n",
    "        if(\".\".join(urllib.parse.urlparse(origin_url).netloc.split(\".\")[-2:]) == \".\".join(urllib.parse.urlparse(url).netloc.split(\".\")[-2:])):\n",
    "            return 1\n",
    "        else:\n",
    "            return -1\n",
    "    return 1"
   ]
  },
  {
   "cell_type": "code",
   "execution_count": 190,
   "id": "48940681-3df5-4f48-ad69-d93e87b47e85",
   "metadata": {},
   "outputs": [],
   "source": [
    "def url_contains_at_symbol(url):\n",
    "    if(\"@\" in url):\n",
    "        return -1\n",
    "    else:\n",
    "        return 1"
   ]
  },
  {
   "cell_type": "code",
   "execution_count": 191,
   "id": "2c70a3b6-ccff-4016-8453-5ad22effccd7",
   "metadata": {},
   "outputs": [],
   "source": [
    "def url_contains_hyphen(url):\n",
    "    return -1 if \"-\" in urllib.parse.urlparse(url).netloc else 1"
   ]
  },
  {
   "cell_type": "code",
   "execution_count": 192,
   "id": "efdcd8b7-5e85-4b14-9534-acdba7a4cd79",
   "metadata": {},
   "outputs": [],
   "source": [
    "def sub_domain_count(url):\n",
    "    count = (urllib.parse.urlparse(url).netloc.count(\".\")-1)\n",
    "    if (count>2):\n",
    "        return -1\n",
    "    elif (count>1):\n",
    "        return 0\n",
    "    else:\n",
    "        return 1"
   ]
  },
  {
   "cell_type": "code",
   "execution_count": 193,
   "id": "3345cdb6-d7c6-494d-a6b7-462edc130863",
   "metadata": {},
   "outputs": [],
   "source": [
    "def contains_https(url):\n",
    "    return 1 if \"https\" == urllib.parse.urlparse(url).scheme else -1"
   ]
  },
  {
   "cell_type": "code",
   "execution_count": 208,
   "id": "73f3e67c-8df3-44e5-a145-3478fc43b3fc",
   "metadata": {},
   "outputs": [],
   "source": [
    "def get_domain_age(url):\n",
    "    whois_ = whois.whois(url)\n",
    "    creation_date = whois_.creation_date[0] if type(whois_.creation_date)==list else whois_.creation_date\n",
    "    return 1 if (datetime.now() - creation_date).days>365 else -1"
   ]
  },
  {
   "cell_type": "code",
   "execution_count": 207,
   "id": "3437fb0d-40ac-493f-a6b4-f12a709ca1d7",
   "metadata": {},
   "outputs": [],
   "source": [
    "def get_domain_registration_length(url):\n",
    "    whois_ = whois.whois(url)\n",
    "    updated_date = whois_.updated_date[0] if type(whois_.updated_date)==list else whois_.updated_date\n",
    "    expiration_date = whois_.expiration_date[0] if type(whois_.expiration_date)==list else whois_.expiration_date\n",
    "    return 1 if (expiration_date - updated_date).days>365 else -1"
   ]
  },
  {
   "cell_type": "code",
   "execution_count": 180,
   "id": "03248f0b-5f82-4669-92c3-d38cee69c2b1",
   "metadata": {},
   "outputs": [],
   "source": [
    "def get_port(url):\n",
    "    if isinstance((urllib.parse.urlparse(url).port),type(None)):\n",
    "        return 1\n",
    "    return -1 if urllib.parse.urlparse(url).port in [443,80,8080] else -1"
   ]
  },
  {
   "cell_type": "code",
   "execution_count": 221,
   "id": "942694a2-a327-400a-a4ae-27eab84b8294",
   "metadata": {},
   "outputs": [],
   "source": [
    "def is_abnormal_url(url):\n",
    "    whois_ = whois.whois(url)\n",
    "    domain_name = whois_.domain_name[0] if type(whois_.domain_name) == list else whois_.domain_name\n",
    "    return 1 if(domain_name.lower() in url.lower()) else -1"
   ]
  },
  {
   "cell_type": "code",
   "execution_count": 225,
   "id": "d65ccd2d-bfec-45d0-bc1c-f04bcb97fa12",
   "metadata": {},
   "outputs": [],
   "source": [
    "def is_valid_dns_record_present(url):\n",
    "    try:\n",
    "        whois.whois(url)\n",
    "        return 1\n",
    "    except:\n",
    "        return -1"
   ]
  },
  {
   "cell_type": "code",
   "execution_count": 375,
   "id": "1ed61f44-a3bd-4a5d-8d4c-07414aab5cb7",
   "metadata": {},
   "outputs": [],
   "source": [
    "def get_host(domain):\n",
    "    df = pd.read_csv(\"domain_type.csv\")\n",
    "    chunks = domain.split(\".\")[::-1]\n",
    "    terminate = False\n",
    "    url = \"\"\n",
    "    previous_type = None\n",
    "    for chunk in chunks:\n",
    "        data = df[df[\"Domain\"] == chunk]\n",
    "        if(len(data) == 0):\n",
    "            return chunk+url\n",
    "        data = data.iloc[0]\n",
    "        if(data[\"Type\"] == previous_type):\n",
    "            return chunk+url\n",
    "        url = \".\"+chunk+url\n",
    "        previous_type = data[\"Type\"]\n",
    "        \n",
    "    return url"
   ]
  },
  {
   "cell_type": "code",
   "execution_count": 389,
   "id": "60518f52-e366-4ec3-bed6-42ed5726bfce",
   "metadata": {},
   "outputs": [],
   "source": [
    "def check_global_ranking(url):\n",
    "    host = urllib.parse.urlparse(url).netloc\n",
    "    response = requests.get(f\"https://api.similarweb.com/v1/similar-rank/{get_host(host)}/rank?api_key=7965dc2a27124af187e632ced8539bcf\")\n",
    "    if(response.status_code != 200):\n",
    "        return -1\n",
    "    response_json = response.json()\n",
    "    rank = response_json['similar_rank'][\"rank\"]\n",
    "    if(rank<100000):\n",
    "        return 1\n",
    "    else:\n",
    "        return 0"
   ]
  },
  {
   "cell_type": "code",
   "execution_count": 402,
   "id": "4f4cf45b-895b-47a4-998e-a739a736512d",
   "metadata": {},
   "outputs": [],
   "source": [
    "def check_backlinks(url):\n",
    "    host = urllib.parse.urlparse(url).netloc\n",
    "    headers = {\n",
    "        \"Authorization\" : \"Bearer app#unlogged__6b62b7d688cfc607042ca3a73f13a89103a83fbf\"\n",
    "    }\n",
    "    response = requests.get(f\"https://app.neilpatel.com/api/backlinks_overview?domain={get_host(host)}&mode=domain\",headers=headers)\n",
    "    backlinks = response.json()[\"backlinks\"]\n",
    "    if(backlinks > 2):\n",
    "        return 1\n",
    "    elif(backlinks < 1):\n",
    "        return -1\n",
    "    else:\n",
    "        return 0"
   ]
  },
  {
   "cell_type": "code",
   "execution_count": 403,
   "id": "c0fd0e74-774b-46ea-a9cd-00dce2cdc108",
   "metadata": {},
   "outputs": [
    {
     "data": {
      "text/plain": [
       "1"
      ]
     },
     "execution_count": 403,
     "metadata": {},
     "output_type": "execute_result"
    }
   ],
   "source": [
    "check_backlinks(data[\"url\"])"
   ]
  },
  {
   "cell_type": "code",
   "execution_count": 404,
   "id": "b8719203-7612-4047-9e4a-ac3232aa732d",
   "metadata": {},
   "outputs": [
    {
     "data": {
      "text/plain": [
       "-1"
      ]
     },
     "execution_count": 404,
     "metadata": {},
     "output_type": "execute_result"
    }
   ],
   "source": [
    "check_backlinks(\"https://sagundev.com.np\")"
   ]
  },
  {
   "cell_type": "code",
   "execution_count": 390,
   "id": "9f4589e6-d233-4b1c-a8d9-23336c4db219",
   "metadata": {},
   "outputs": [
    {
     "data": {
      "text/plain": [
       "1"
      ]
     },
     "execution_count": 390,
     "metadata": {},
     "output_type": "execute_result"
    }
   ],
   "source": [
    "check_global_ranking(data[\"url\"])"
   ]
  },
  {
   "cell_type": "code",
   "execution_count": 391,
   "id": "9d10ce9f-b1f6-433c-bcf2-82dc2e63ecb4",
   "metadata": {},
   "outputs": [
    {
     "data": {
      "text/plain": [
       "0"
      ]
     },
     "execution_count": 391,
     "metadata": {},
     "output_type": "execute_result"
    }
   ],
   "source": [
    "check_global_ranking(\"https://pouexam.edu.np\")"
   ]
  },
  {
   "cell_type": "code",
   "execution_count": 281,
   "id": "b9279de9-15c5-4d3f-b4e9-cff4b96c772a",
   "metadata": {},
   "outputs": [
    {
     "data": {
      "text/plain": [
       "ParseResult(scheme='https', netloc='pouexam.edu.np', path='', params='', query='', fragment='')"
      ]
     },
     "execution_count": 281,
     "metadata": {},
     "output_type": "execute_result"
    }
   ],
   "source": [
    "urllib.parse.urlparse(\"https://pouexam.edu.np\")"
   ]
  },
  {
   "cell_type": "code",
   "execution_count": 282,
   "id": "09c75a50-7d42-4eea-a2ac-2ff6dc8c5dcf",
   "metadata": {},
   "outputs": [
    {
     "data": {
      "text/plain": [
       "ParseResult(scheme='https', netloc='colab.research.google.com', path='/drive/1DrlPkDg2iEt_rwOLADCNhCe854UjVZ6u', params='', query='', fragment='scrollTo=dga-OQmr45VG')"
      ]
     },
     "execution_count": 282,
     "metadata": {},
     "output_type": "execute_result"
    }
   ],
   "source": [
    "urllib.parse.urlparse(data[\"url\"])"
   ]
  },
  {
   "cell_type": "code",
   "execution_count": 70,
   "id": "b190d8ad-c08a-44c4-9d38-f2dae06b448f",
   "metadata": {},
   "outputs": [
    {
     "data": {
      "text/plain": [
       "1"
      ]
     },
     "execution_count": 70,
     "metadata": {},
     "output_type": "execute_result"
    }
   ],
   "source": [
    "contains_IP(domain)"
   ]
  },
  {
   "cell_type": "code",
   "execution_count": 71,
   "id": "d2d516e3-3323-48ae-a28f-5b9e297e46a2",
   "metadata": {},
   "outputs": [
    {
     "data": {
      "text/plain": [
       "-1"
      ]
     },
     "execution_count": 71,
     "metadata": {},
     "output_type": "execute_result"
    }
   ],
   "source": [
    "url_length(data[\"url\"])"
   ]
  },
  {
   "cell_type": "code",
   "execution_count": 88,
   "id": "b6c14b20-2d34-43df-beb3-7441c84eb558",
   "metadata": {},
   "outputs": [
    {
     "data": {
      "text/plain": [
       "-1"
      ]
     },
     "execution_count": 88,
     "metadata": {},
     "output_type": "execute_result"
    }
   ],
   "source": [
    "is_shortened(data[\"origin_url\"],data[\"url\"])"
   ]
  },
  {
   "cell_type": "code",
   "execution_count": 92,
   "id": "20682271-394d-41ff-b423-c9fcc555a1c4",
   "metadata": {},
   "outputs": [
    {
     "data": {
      "text/plain": [
       "1"
      ]
     },
     "execution_count": 92,
     "metadata": {},
     "output_type": "execute_result"
    }
   ],
   "source": [
    "is_shortened(\"https://colab.google.com/drive/1DrlPkDg2iEt_rw\",data[\"url\"])"
   ]
  },
  {
   "cell_type": "code",
   "execution_count": 94,
   "id": "eb43c61d-4c5f-40fa-94a8-e476bedcc995",
   "metadata": {},
   "outputs": [
    {
     "data": {
      "text/plain": [
       "-1"
      ]
     },
     "execution_count": 94,
     "metadata": {},
     "output_type": "execute_result"
    }
   ],
   "source": [
    "url_contains_at_symbol(\"https://abc.xyz.com@\")"
   ]
  },
  {
   "cell_type": "code",
   "execution_count": 104,
   "id": "1b4da450-acdb-4708-bdb9-8e4a2db6fff8",
   "metadata": {},
   "outputs": [
    {
     "data": {
      "text/plain": [
       "1"
      ]
     },
     "execution_count": 104,
     "metadata": {},
     "output_type": "execute_result"
    }
   ],
   "source": [
    "url_contains_double_slash(data['url'])"
   ]
  },
  {
   "cell_type": "code",
   "execution_count": 110,
   "id": "8824f131-0cf9-4ace-8f15-bc86b292de04",
   "metadata": {},
   "outputs": [
    {
     "data": {
      "text/plain": [
       "-1"
      ]
     },
     "execution_count": 110,
     "metadata": {},
     "output_type": "execute_result"
    }
   ],
   "source": [
    "url_contains_hyphen(\"https://goog-le.com//facebook.com\")"
   ]
  },
  {
   "cell_type": "code",
   "execution_count": 125,
   "id": "e20f5012-d231-4a9e-af33-04dc453f749e",
   "metadata": {},
   "outputs": [
    {
     "data": {
      "text/plain": [
       "0"
      ]
     },
     "execution_count": 125,
     "metadata": {},
     "output_type": "execute_result"
    }
   ],
   "source": [
    "sub_domain_count(data[\"url\"])"
   ]
  },
  {
   "cell_type": "code",
   "execution_count": 126,
   "id": "c3afcdbf-4650-4369-85eb-79a78e806f2b",
   "metadata": {},
   "outputs": [
    {
     "data": {
      "text/plain": [
       "1"
      ]
     },
     "execution_count": 126,
     "metadata": {},
     "output_type": "execute_result"
    }
   ],
   "source": [
    "contains_https(data[\"url\"])"
   ]
  },
  {
   "cell_type": "code",
   "execution_count": 127,
   "id": "4f3ca2be-4b94-4c2e-b6f2-ff043033b328",
   "metadata": {},
   "outputs": [
    {
     "data": {
      "text/plain": [
       "-1"
      ]
     },
     "execution_count": 127,
     "metadata": {},
     "output_type": "execute_result"
    }
   ],
   "source": [
    "contains_https(\"http://google.com\")"
   ]
  },
  {
   "cell_type": "code",
   "execution_count": 146,
   "id": "3ed3868b-072b-471a-8e83-a74c0f6ec1ff",
   "metadata": {},
   "outputs": [
    {
     "data": {
      "text/plain": [
       "1"
      ]
     },
     "execution_count": 146,
     "metadata": {},
     "output_type": "execute_result"
    }
   ],
   "source": [
    "get_domain_age(data[\"url\"])"
   ]
  },
  {
   "cell_type": "code",
   "execution_count": 206,
   "id": "0b1d5fbc-24cc-425e-8a69-881a0d29e34a",
   "metadata": {},
   "outputs": [
    {
     "data": {
      "text/plain": [
       "-1"
      ]
     },
     "execution_count": 206,
     "metadata": {},
     "output_type": "execute_result"
    }
   ],
   "source": [
    "get_domain_age(\"https://scalefluencer.app\")"
   ]
  },
  {
   "cell_type": "code",
   "execution_count": 182,
   "id": "22739985-e7bf-4d9e-923c-af526ca67bf5",
   "metadata": {},
   "outputs": [
    {
     "data": {
      "text/plain": [
       "-1"
      ]
     },
     "execution_count": 182,
     "metadata": {},
     "output_type": "execute_result"
    }
   ],
   "source": [
    "get_port(\"https://google.com:238\")"
   ]
  },
  {
   "cell_type": "code",
   "execution_count": 181,
   "id": "7d43cf27-7f87-4cb2-9bcf-beb8782f2ed9",
   "metadata": {},
   "outputs": [
    {
     "data": {
      "text/plain": [
       "1"
      ]
     },
     "execution_count": 181,
     "metadata": {},
     "output_type": "execute_result"
    }
   ],
   "source": [
    "get_port(data[\"url\"])"
   ]
  },
  {
   "cell_type": "code",
   "execution_count": 222,
   "id": "a078af28-f6c4-4163-8edb-eb9fade02160",
   "metadata": {},
   "outputs": [
    {
     "data": {
      "text/plain": [
       "1"
      ]
     },
     "execution_count": 222,
     "metadata": {},
     "output_type": "execute_result"
    }
   ],
   "source": [
    "is_abnormal_url(data[\"url\"])"
   ]
  },
  {
   "cell_type": "code",
   "execution_count": 226,
   "id": "bb61a187-d69a-449b-aa95-1f0aa75bfc68",
   "metadata": {},
   "outputs": [
    {
     "data": {
      "text/plain": [
       "1"
      ]
     },
     "execution_count": 226,
     "metadata": {},
     "output_type": "execute_result"
    }
   ],
   "source": [
    "is_valid_dns_record_present(data[\"url\"])"
   ]
  },
  {
   "cell_type": "code",
   "execution_count": 275,
   "id": "cc9a0430-2ebf-47df-adb5-3add7b80d1af",
   "metadata": {},
   "outputs": [
    {
     "data": {
      "text/plain": [
       "{'domain_name': None,\n",
       " 'registrar': None,\n",
       " 'whois_server': None,\n",
       " 'referral_url': None,\n",
       " 'updated_date': None,\n",
       " 'creation_date': None,\n",
       " 'expiration_date': None,\n",
       " 'name_servers': None,\n",
       " 'status': None,\n",
       " 'emails': None,\n",
       " 'dnssec': None,\n",
       " 'name': None,\n",
       " 'org': None,\n",
       " 'address': None,\n",
       " 'city': None,\n",
       " 'state': None,\n",
       " 'registrant_postal_code': None,\n",
       " 'country': None}"
      ]
     },
     "execution_count": 275,
     "metadata": {},
     "output_type": "execute_result"
    }
   ],
   "source": [
    "whois.whois(\"pouexam.np\")"
   ]
  },
  {
   "cell_type": "code",
   "execution_count": null,
   "id": "6883c95a-3de9-4937-8e8e-d1967e83b09f",
   "metadata": {},
   "outputs": [],
   "source": []
  }
 ],
 "metadata": {
  "kernelspec": {
   "display_name": "Python 3 (ipykernel)",
   "language": "python",
   "name": "python3"
  },
  "language_info": {
   "codemirror_mode": {
    "name": "ipython",
    "version": 3
   },
   "file_extension": ".py",
   "mimetype": "text/x-python",
   "name": "python",
   "nbconvert_exporter": "python",
   "pygments_lexer": "ipython3",
   "version": "3.11.4"
  }
 },
 "nbformat": 4,
 "nbformat_minor": 5
}
